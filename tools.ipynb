{
  "nbformat": 4,
  "nbformat_minor": 0,
  "metadata": {
    "colab": {
      "name": "tools.ipynb",
      "provenance": [],
      "collapsed_sections": [],
      "authorship_tag": "ABX9TyNUj44KU7B/YE+ivHXE/aro",
      "include_colab_link": true
    },
    "kernelspec": {
      "name": "python3",
      "display_name": "Python 3"
    }
  },
  "cells": [
    {
      "cell_type": "markdown",
      "metadata": {
        "id": "view-in-github",
        "colab_type": "text"
      },
      "source": [
        "<a href=\"https://colab.research.google.com/github/vivi1231/0721/blob/master/tools.ipynb\" target=\"_parent\"><img src=\"https://colab.research.google.com/assets/colab-badge.svg\" alt=\"Open In Colab\"/></a>"
      ]
    },
    {
      "cell_type": "code",
      "metadata": {
        "id": "APNokhfwY2mc",
        "colab_type": "code",
        "colab": {
          "base_uri": "https://localhost:8080/",
          "height": 35
        },
        "outputId": "be54f8c8-c2ad-420b-ed1d-fad42b99c04b"
      },
      "source": [
        "!pip install opencc-python-reimplemented"
      ],
      "execution_count": 28,
      "outputs": [
        {
          "output_type": "stream",
          "text": [
            "Requirement already satisfied: opencc-python-reimplemented in /usr/local/lib/python3.6/dist-packages (0.1.6)\n"
          ],
          "name": "stdout"
        }
      ]
    },
    {
      "cell_type": "code",
      "metadata": {
        "id": "qtJm6y9HaE2o",
        "colab_type": "code",
        "colab": {
          "base_uri": "https://localhost:8080/",
          "height": 35
        },
        "outputId": "c1bd69b4-4ee5-4682-9145-64b9dcc6c7ab"
      },
      "source": [
        "from opencc import OpenCC\n",
        "cc = OpenCC('s2twp')  # convert from Simplified Chinese to Traditional Chinese\n",
        "# can also set conversion by calling set_conversion\n",
        "# cc.set_conversion('s2tw')\n",
        "to_convert = '余童年丧父，老母命弃举业学医，谓可以养生，可以济人，且习一艺以成名，尔父夙心也。'\n",
        "converted = cc.convert(to_convert)\n",
        "converted"
      ],
      "execution_count": 29,
      "outputs": [
        {
          "output_type": "execute_result",
          "data": {
            "application/vnd.google.colaboratory.intrinsic": {
              "type": "string"
            },
            "text/plain": [
              "'餘童年喪父，老母命棄舉業學醫，謂可以養生，可以濟人，且習一藝以成名，爾父夙心也。'"
            ]
          },
          "metadata": {
            "tags": []
          },
          "execution_count": 29
        }
      ]
    },
    {
      "cell_type": "code",
      "metadata": {
        "id": "KEhlipS1b6mb",
        "colab_type": "code",
        "colab": {}
      },
      "source": [
        "news = '''全日空（ANA）今日宣布，將在8月份恢復88%的國內航線，並復飛部分國際航線，其中包含台北松山到東京羽田機場的航班。\n",
        "\n",
        "疫情趨緩，日本6月大幅鬆綁國內跨縣移動以及公布首波入境名單後，日本首相安倍晉三更指定台灣納入第二波鬆綁出入境名單。\n",
        "\n",
        "全日空今日宣布8月3日起復飛羽田到台北的航班，每週一和五各有一班往返載客。另還有羽田到胡志明市，羽田到華盛頓特區和羽田到巴黎3個航線。\n",
        "\n",
        "全日空表示，本次復飛航線預計客群為商務旅客。至於台北到桃園的航線，總公司還在評估中，目前無復飛計畫。'''"
      ],
      "execution_count": 30,
      "outputs": []
    },
    {
      "cell_type": "code",
      "metadata": {
        "id": "BZyJ9oufa0-Y",
        "colab_type": "code",
        "colab": {
          "base_uri": "https://localhost:8080/",
          "height": 191
        },
        "outputId": "ef4849f2-1534-4eec-c170-70d27f740731"
      },
      "source": [
        "import jieba\n",
        "from urllib.request import urlretrieve\n",
        "# 偶爾: list(jieba.cut(news))\n",
        "url = \"https://github.com/fxsjy/jieba/raw/master/extra_dict/dict.txt.big\"\n",
        "    #  https://github.com/fxsjy/jieba/blob/master/extra_dict/dict.txt.big\n",
        "urlretrieve(url, \"dict.txt.big\")\n",
        "jieba.set_dictionary(\"dict.txt.big\")\n",
        "jieba.load_userdict(\"mydict.txt\")\n",
        "\" \".join(jieba.cut(news))"
      ],
      "execution_count": 41,
      "outputs": [
        {
          "output_type": "stream",
          "text": [
            "Building prefix dict from /content/dict.txt.big ...\n",
            "Dumping model to file cache /tmp/jieba.u501edca284da514cb68b53a20324f4e3.cache\n",
            "Loading model cost 1.638 seconds.\n",
            "Prefix dict has been built successfully.\n"
          ],
          "name": "stderr"
        },
        {
          "output_type": "execute_result",
          "data": {
            "application/vnd.google.colaboratory.intrinsic": {
              "type": "string"
            },
            "text/plain": [
              "'全日空 （ ANA ） 今日 宣布 ， 將在 8 月份 恢復 88% 的 國內航線 ， 並 復飛 部分 國際 航線 ， 其中 包含 台北 松山 到 東京 羽田機場 的 航班 。 \\n \\n 疫情 趨緩 ， 日本 6 月 大幅 鬆綁 國內 跨縣 移動 以及 公布 首波 入境 名單 後 ， 日本首相 安倍晉三 更 指定 台灣 納入 第二 波 鬆綁 出入境 名單 。 \\n \\n 全日空 今日 宣布 8 月 3 日起 復飛 羽田 到 台北 的 航班 ， 每週 一和五 各有 一班 往返 載客 。 另 還有 羽田 到 胡志明市 ， 羽田 到 華盛頓 特區 和 羽田 到 巴黎 3 個 航線 。 \\n \\n 全日空 表示 ， 本次 復飛 航線 預計 客群 為 商務旅客 。 至於 台北 到 桃園 的 航線 ， 總公司 還在 評估 中 ， 目前 無 復飛 計畫 。'"
            ]
          },
          "metadata": {
            "tags": []
          },
          "execution_count": 41
        }
      ]
    },
    {
      "cell_type": "code",
      "metadata": {
        "id": "qcC5Fk1q7UWv",
        "colab_type": "code",
        "colab": {
          "base_uri": "https://localhost:8080/",
          "height": 364
        },
        "outputId": "2777a15c-7ed1-4dc0-8bbc-8f1257fd60ca"
      },
      "source": [
        "import jieba.analyse\n",
        "url = \"https://github.com/fxsjy/jieba/blob/master/extra_dict/idf.txt.big\"\n",
        "urlretrieve(url, \"idf.txt.big\")\n",
        "jieba.analyse.set_idf_path(\"idf.txt.big\")\n",
        "jieba.analyse.extract_tags(news)\n"
      ],
      "execution_count": 50,
      "outputs": [
        {
          "output_type": "execute_result",
          "data": {
            "text/plain": [
              "['復飛',\n",
              " '航線',\n",
              " '羽田',\n",
              " '全日空',\n",
              " '台北',\n",
              " '今日',\n",
              " '宣布',\n",
              " '航班',\n",
              " '鬆綁',\n",
              " '名單',\n",
              " 'ANA',\n",
              " '將在',\n",
              " '月份',\n",
              " '恢復',\n",
              " '88%',\n",
              " '國內航線',\n",
              " '部分',\n",
              " '國際',\n",
              " '其中',\n",
              " '包含']"
            ]
          },
          "metadata": {
            "tags": []
          },
          "execution_count": 50
        }
      ]
    },
    {
      "cell_type": "code",
      "metadata": {
        "id": "DJO4dIFN-_Vh",
        "colab_type": "code",
        "colab": {}
      },
      "source": [
        ""
      ],
      "execution_count": 48,
      "outputs": []
    }
  ]
}