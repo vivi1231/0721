{
  "nbformat": 4,
  "nbformat_minor": 0,
  "metadata": {
    "colab": {
      "name": "peom.ipynb",
      "provenance": [],
      "authorship_tag": "ABX9TyOtUtdt8J24DcaemuTX1cq7",
      "include_colab_link": true
    },
    "kernelspec": {
      "name": "python3",
      "display_name": "Python 3"
    }
  },
  "cells": [
    {
      "cell_type": "markdown",
      "metadata": {
        "id": "view-in-github",
        "colab_type": "text"
      },
      "source": [
        "<a href=\"https://colab.research.google.com/github/vivi1231/0721/blob/master/peom.ipynb\" target=\"_parent\"><img src=\"https://colab.research.google.com/assets/colab-badge.svg\" alt=\"Open In Colab\"/></a>"
      ]
    },
    {
      "cell_type": "code",
      "metadata": {
        "id": "JgYRySyyANcs",
        "colab_type": "code",
        "colab": {
          "base_uri": "https://localhost:8080/",
          "height": 35
        },
        "outputId": "aec1398f-8a90-4bbf-dff7-806f3c1a1cca"
      },
      "source": [
        "from urllib.request import urlretrieve\n",
        "# urlretrieve 就是從網路上下載該檔案\n",
        "url = \"https://github.com/Elwing-Chou/ml0716/raw/master/poem_train.csv\"\n",
        "urlretrieve(url, \"train.csv\")\n",
        "url = \"https://github.com/Elwing-Chou/ml0716/raw/master/poem_test.csv\"\n",
        "urlretrieve(url, \"test.csv\")"
      ],
      "execution_count": 1,
      "outputs": [
        {
          "output_type": "execute_result",
          "data": {
            "text/plain": [
              "('test.csv', <http.client.HTTPMessage at 0x7fd6bca1e4a8>)"
            ]
          },
          "metadata": {
            "tags": []
          },
          "execution_count": 1
        }
      ]
    },
    {
      "cell_type": "code",
      "metadata": {
        "id": "THY4b_A-BCBL",
        "colab_type": "code",
        "colab": {
          "base_uri": "https://localhost:8080/",
          "height": 415
        },
        "outputId": "58d7fb8e-e5b6-418a-e7bb-a7a886cc1567"
      },
      "source": [
        "import pandas as pd\n",
        "train_df = pd.read_csv(\"train.csv\", encoding=\"utf-8\")\n",
        "train_df"
      ],
      "execution_count": 11,
      "outputs": [
        {
          "output_type": "execute_result",
          "data": {
            "text/html": [
              "<div>\n",
              "<style scoped>\n",
              "    .dataframe tbody tr th:only-of-type {\n",
              "        vertical-align: middle;\n",
              "    }\n",
              "\n",
              "    .dataframe tbody tr th {\n",
              "        vertical-align: top;\n",
              "    }\n",
              "\n",
              "    .dataframe thead th {\n",
              "        text-align: right;\n",
              "    }\n",
              "</style>\n",
              "<table border=\"1\" class=\"dataframe\">\n",
              "  <thead>\n",
              "    <tr style=\"text-align: right;\">\n",
              "      <th></th>\n",
              "      <th>作者</th>\n",
              "      <th>詩名</th>\n",
              "      <th>內容</th>\n",
              "    </tr>\n",
              "  </thead>\n",
              "  <tbody>\n",
              "    <tr>\n",
              "      <th>0</th>\n",
              "      <td>李白</td>\n",
              "      <td>菩薩蠻·平林漠漠煙如織</td>\n",
              "      <td>平林漠漠煙如織，寒山一帶傷心碧。\\r\\n暝色入高樓，有人樓上愁。玉階空佇立，宿鳥歸飛急。\\r...</td>\n",
              "    </tr>\n",
              "    <tr>\n",
              "      <th>1</th>\n",
              "      <td>李白</td>\n",
              "      <td>把酒問月</td>\n",
              "      <td>青天有月來幾時，我今停杯一問之：人攀明月不可得，月行卻與人相隨？皎如飛鏡臨丹闕，綠煙滅儘清輝...</td>\n",
              "    </tr>\n",
              "    <tr>\n",
              "      <th>2</th>\n",
              "      <td>李白</td>\n",
              "      <td>春思</td>\n",
              "      <td>燕草如碧絲，秦桑低綠枝。當君懷歸日，是妾斷腸時。春風不相識，何事入羅幃。</td>\n",
              "    </tr>\n",
              "    <tr>\n",
              "      <th>3</th>\n",
              "      <td>李白</td>\n",
              "      <td>春夜洛城聞笛</td>\n",
              "      <td>誰家玉笛暗飛聲，散入春風滿洛城。此夜曲中聞折柳，何人不起故園情。</td>\n",
              "    </tr>\n",
              "    <tr>\n",
              "      <th>4</th>\n",
              "      <td>李白</td>\n",
              "      <td>古風 其十九</td>\n",
              "      <td>西上蓮花山，迢迢見明星。(西上 一作：西嶽)素手把芙蓉，虛步躡太清。霓裳曳廣帶，飄拂升天行。...</td>\n",
              "    </tr>\n",
              "    <tr>\n",
              "      <th>...</th>\n",
              "      <td>...</td>\n",
              "      <td>...</td>\n",
              "      <td>...</td>\n",
              "    </tr>\n",
              "    <tr>\n",
              "      <th>2726</th>\n",
              "      <td>白居易</td>\n",
              "      <td>彆元九後詠所懷</td>\n",
              "      <td>零落桐葉雨，蕭條槿花風。悠悠早秋意，生此幽閒中。況與故人彆，中懷正無悰。勿雲不相送，心到青門...</td>\n",
              "    </tr>\n",
              "    <tr>\n",
              "      <th>2727</th>\n",
              "      <td>白居易</td>\n",
              "      <td>早秋曲江感懷</td>\n",
              "      <td>離離暑雲散，嫋嫋涼風起。池上秋又來，荷花半成子。朱顏易銷歇，白日無窮已。人壽不如山，年光急於...</td>\n",
              "    </tr>\n",
              "    <tr>\n",
              "      <th>2728</th>\n",
              "      <td>白居易</td>\n",
              "      <td>東墟晚歇　時退居渭村。</td>\n",
              "      <td>涼風冷露蕭索天，黃蒿紫菊荒涼田。繞塚秋花少顏色，細蟲小蝶飛翻翻。中有騰騰獨行者，手拄漁竿不騎...</td>\n",
              "    </tr>\n",
              "    <tr>\n",
              "      <th>2729</th>\n",
              "      <td>白居易</td>\n",
              "      <td>南秦雪</td>\n",
              "      <td>往歲曾為西邑吏，慣從駱口到南秦。\\r\\n三時雲冷多飛雪，二月山寒少有春。\\r\\n我思舊事猶惆...</td>\n",
              "    </tr>\n",
              "    <tr>\n",
              "      <th>2730</th>\n",
              "      <td>白居易</td>\n",
              "      <td>寄蘄州簟與元九因題六韻　時元九鰥居。</td>\n",
              "      <td>笛竹出蘄春，霜刀劈翠筠。織成雙鎖簟，寄與獨眠人。卷作筒中信，舒為席上珍。滑如鋪薤葉，冷似臥龍...</td>\n",
              "    </tr>\n",
              "  </tbody>\n",
              "</table>\n",
              "<p>2731 rows × 3 columns</p>\n",
              "</div>"
            ],
            "text/plain": [
              "       作者  ...                                                 內容\n",
              "0      李白  ...  平林漠漠煙如織，寒山一帶傷心碧。\\r\\n暝色入高樓，有人樓上愁。玉階空佇立，宿鳥歸飛急。\\r...\n",
              "1      李白  ...  青天有月來幾時，我今停杯一問之：人攀明月不可得，月行卻與人相隨？皎如飛鏡臨丹闕，綠煙滅儘清輝...\n",
              "2      李白  ...               燕草如碧絲，秦桑低綠枝。當君懷歸日，是妾斷腸時。春風不相識，何事入羅幃。\n",
              "3      李白  ...                   誰家玉笛暗飛聲，散入春風滿洛城。此夜曲中聞折柳，何人不起故園情。\n",
              "4      李白  ...  西上蓮花山，迢迢見明星。(西上 一作：西嶽)素手把芙蓉，虛步躡太清。霓裳曳廣帶，飄拂升天行。...\n",
              "...   ...  ...                                                ...\n",
              "2726  白居易  ...  零落桐葉雨，蕭條槿花風。悠悠早秋意，生此幽閒中。況與故人彆，中懷正無悰。勿雲不相送，心到青門...\n",
              "2727  白居易  ...  離離暑雲散，嫋嫋涼風起。池上秋又來，荷花半成子。朱顏易銷歇，白日無窮已。人壽不如山，年光急於...\n",
              "2728  白居易  ...  涼風冷露蕭索天，黃蒿紫菊荒涼田。繞塚秋花少顏色，細蟲小蝶飛翻翻。中有騰騰獨行者，手拄漁竿不騎...\n",
              "2729  白居易  ...  往歲曾為西邑吏，慣從駱口到南秦。\\r\\n三時雲冷多飛雪，二月山寒少有春。\\r\\n我思舊事猶惆...\n",
              "2730  白居易  ...  笛竹出蘄春，霜刀劈翠筠。織成雙鎖簟，寄與獨眠人。卷作筒中信，舒為席上珍。滑如鋪薤葉，冷似臥龍...\n",
              "\n",
              "[2731 rows x 3 columns]"
            ]
          },
          "metadata": {
            "tags": []
          },
          "execution_count": 11
        }
      ]
    },
    {
      "cell_type": "code",
      "metadata": {
        "id": "fNSAs9ebUNID",
        "colab_type": "code",
        "colab": {}
      },
      "source": [
        "# Series.replace(轉換字典)\n",
        "# {\"李白\":0, \"杜甫\":1}\n",
        "# unique/value_counts\n",
        "u = train_df[\"作者\"].unique()\n",
        "trans = {n:i for i, n in enumerate(u)}\n",
        "trans_r = {n:i for i, n in enumerate(u)}\n",
        "y_train = train_df[\"作者\"].replace(trans)\n",
        "y_test = train_df[\"作者\"].replace(trans)\n",
        "\n"
      ],
      "execution_count": 21,
      "outputs": []
    },
    {
      "cell_type": "code",
      "metadata": {
        "id": "mvbhuvOhWaUt",
        "colab_type": "code",
        "colab": {
          "base_uri": "https://localhost:8080/",
          "height": 225
        },
        "outputId": "f01c7513-69be-4282-b7dc-eebe4b524835"
      },
      "source": [
        "y_test\n"
      ],
      "execution_count": 20,
      "outputs": [
        {
          "output_type": "execute_result",
          "data": {
            "text/plain": [
              "0       0\n",
              "1       0\n",
              "2       0\n",
              "3       0\n",
              "4       0\n",
              "       ..\n",
              "2726    2\n",
              "2727    2\n",
              "2728    2\n",
              "2729    2\n",
              "2730    2\n",
              "Name: 作者, Length: 2731, dtype: int64"
            ]
          },
          "metadata": {
            "tags": []
          },
          "execution_count": 20
        }
      ]
    },
    {
      "cell_type": "code",
      "metadata": {
        "id": "D0gnIEyUWc8r",
        "colab_type": "code",
        "colab": {}
      },
      "source": [
        ""
      ],
      "execution_count": null,
      "outputs": []
    }
  ]
}